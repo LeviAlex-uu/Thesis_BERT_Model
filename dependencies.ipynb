{
 "cells": [
  {
   "cell_type": "code",
   "execution_count": null,
   "id": "c6ed151c",
   "metadata": {},
   "outputs": [],
   "source": [
    "#All libraries used in BERT.ipynb and dataset.ipynb can be downloaded here"
   ]
  },
  {
   "cell_type": "code",
   "execution_count": null,
   "id": "34a87df0",
   "metadata": {},
   "outputs": [],
   "source": [
    "conda install pytorch torchvision torchaudio cpuonly -c pytorch\n",
    "# If there are problems visit: https://pytorch.org/"
   ]
  },
  {
   "cell_type": "code",
   "execution_count": null,
   "id": "b0bae717",
   "metadata": {},
   "outputs": [],
   "source": [
    "pip install pandas\n",
    "# If there are problems visit: https://pandas.pydata.org/docs/getting_started/install.html"
   ]
  },
  {
   "cell_type": "code",
   "execution_count": null,
   "id": "b1b29e33",
   "metadata": {},
   "outputs": [],
   "source": [
    "pip install transformers\n",
    "# If there are problems visit: https://huggingface.co/docs/transformers/installation"
   ]
  },
  {
   "cell_type": "code",
   "execution_count": null,
   "id": "105f65dd",
   "metadata": {},
   "outputs": [],
   "source": [
    "pip install nlpaug\n",
    "# If there are problems visit: https://pypi.org/project/nlpaug/"
   ]
  },
  {
   "cell_type": "code",
   "execution_count": null,
   "id": "ee187b91",
   "metadata": {},
   "outputs": [],
   "source": [
    "pip install nltk\n",
    "# If there are problems visit: https://www.nltk.org/install.html"
   ]
  },
  {
   "cell_type": "code",
   "execution_count": null,
   "id": "6ca02e8d",
   "metadata": {},
   "outputs": [],
   "source": [
    "pip install -U scikit-learn\n",
    "# If there are problems visit: https://scikit-learn.org/stable/install.html"
   ]
  }
 ],
 "metadata": {
  "kernelspec": {
   "display_name": "Python 3 (ipykernel)",
   "language": "python",
   "name": "python3"
  },
  "language_info": {
   "codemirror_mode": {
    "name": "ipython",
    "version": 3
   },
   "file_extension": ".py",
   "mimetype": "text/x-python",
   "name": "python",
   "nbconvert_exporter": "python",
   "pygments_lexer": "ipython3",
   "version": "3.7.13"
  }
 },
 "nbformat": 4,
 "nbformat_minor": 5
}
