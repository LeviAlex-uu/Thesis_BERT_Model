{
 "cells": [
  {
   "cell_type": "code",
   "execution_count": null,
   "id": "2bfc3c1c",
   "metadata": {},
   "outputs": [],
   "source": [
    "import os\n",
    "import tensorflow as tf\n",
    "import tensorflow_hub as hub\n",
    "import tensorflow_text as text\n",
    "from tensorflow import keras\n",
    "\n",
    "from sklearn.model_selection import train_test_split\n",
    "from sklearn import model_selection, datasets\n",
    "from sklearn.tree import DecisionTreeClassifier\n",
    "from sklearn.metrics import confusion_matrix, classification_report\n",
    "import joblib\n",
    "import pickle\n",
    "\n",
    "import numpy as np\n",
    "import pandas as pd"
   ]
  },
  {
   "cell_type": "code",
   "execution_count": null,
   "id": "b0d02362",
   "metadata": {},
   "outputs": [],
   "source": [
    "df = pd.read_csv(\"dataset/data_500_label_Oversampled.csv\")\n",
    "# premade datasets:\n",
    "# \"dataset/data_500_label_SMOTEsampled.csv\"\n",
    "# \"dataset/data_500_label_Oversampled.csv\"\n",
    "# \"dataset/data_500_label_Undersampled.csv\"\n",
    "# \"dataset/data_500_label_Unbalanced.csv\"\n",
    "\n",
    "df.head(5)"
   ]
  },
  {
   "cell_type": "code",
   "execution_count": null,
   "id": "87038c18",
   "metadata": {},
   "outputs": [],
   "source": [
    "df.groupby('label').describe()"
   ]
  },
  {
   "cell_type": "code",
   "execution_count": null,
   "id": "7bac39ad",
   "metadata": {},
   "outputs": [],
   "source": [
    "#split data into training and testing sets.\n",
    "X_train, X_test, y_train, y_test = train_test_split(df['caption'],df['score'], stratify=df['score'])"
   ]
  },
  {
   "cell_type": "code",
   "execution_count": null,
   "id": "0652f141",
   "metadata": {},
   "outputs": [],
   "source": [
    "bert_preprocess = hub.KerasLayer(\"https://tfhub.dev/tensorflow/bert_en_uncased_preprocess/3\")\n",
    "bert_encoder = hub.KerasLayer(\"https://tfhub.dev/tensorflow/bert_en_uncased_L-12_H-768_A-12/4\")\n",
    "\n",
    "def get_sentence_embedding(sentences):\n",
    "    \"\"\"\n",
    "    returns word embeddings from given sentences\n",
    "    \"\"\"\n",
    "    preprocessed_text = bert_preprocess(sentences)\n",
    "    return bert_encoder(preprocessed_text)['pooled_output']"
   ]
  },
  {
   "cell_type": "code",
   "execution_count": null,
   "id": "d6443f04",
   "metadata": {},
   "outputs": [],
   "source": [
    "\"\"\"\n",
    "code used from:\n",
    "https://github.com/codebasics/deep-learning-keras-tf-tutorial/blob/master/47_BERT_text_classification/BERT_email_classification-handle-imbalance.ipynb\n",
    "\"\"\"\n",
    "# Bert layers\n",
    "text_input = tf.keras.layers.Input(shape=(), dtype=tf.string, name='text')\n",
    "preprocessed_text = bert_preprocess(text_input)\n",
    "outputs = bert_encoder(preprocessed_text)\n",
    "\n",
    "# Neural network layers\n",
    "l = tf.keras.layers.Dropout(0.1, name=\"dropout\")(outputs['pooled_output'])\n",
    "l = tf.keras.layers.Dense(1, activation='sigmoid', name=\"output\")(l)\n",
    "\n",
    "# Use inputs and outputs to construct a final model\n",
    "model = tf.keras.Model(inputs=[text_input], outputs = [l])\n",
    "\n",
    "METRICS = [\n",
    "      tf.keras.metrics.BinaryAccuracy(name='accuracy'),\n",
    "      tf.keras.metrics.Precision(name='precision'),\n",
    "      tf.keras.metrics.Recall(name='recall')\n",
    "]\n",
    "\n",
    "model.compile(optimizer='adam',\n",
    "              loss='binary_crossentropy',\n",
    "              metrics=METRICS)\n",
    "\n",
    "model.summary()"
   ]
  },
  {
   "cell_type": "code",
   "execution_count": null,
   "id": "48ac01b7",
   "metadata": {
    "scrolled": false
   },
   "outputs": [],
   "source": [
    "#train model\n",
    "model.fit(X_train, y_train, epochs=10)"
   ]
  },
  {
   "cell_type": "code",
   "execution_count": null,
   "id": "a44fa9a2",
   "metadata": {},
   "outputs": [],
   "source": [
    "model.evaluate(X_test, y_test)"
   ]
  },
  {
   "cell_type": "code",
   "execution_count": null,
   "id": "116978bd",
   "metadata": {},
   "outputs": [],
   "source": [
    "#save the trained weights of a model\n",
    "model.save_weights('models/file-name.ckpt') "
   ]
  },
  {
   "cell_type": "code",
   "execution_count": null,
   "id": "9f8afe17",
   "metadata": {},
   "outputs": [],
   "source": [
    "loaded_model = model\n",
    "loaded_model.load_weights('models/filename.ckpt')\n",
    "\n",
    "#trained models:\n",
    "#   model_SMOTE\n",
    "#   model_Oversampled\n",
    "#   model_Undersampled\n",
    "#   model_Unbalanced\n",
    "#   unfortunately the .ckpt files are to large for github  "
   ]
  },
  {
   "cell_type": "code",
   "execution_count": null,
   "id": "c2249d99",
   "metadata": {},
   "outputs": [],
   "source": [
    "y_predicted = loaded_model.predict(X_test)\n",
    "y_predicted = y_predicted.flatten()\n",
    "y_predicted = np.where(y_predicted > 0.5, 1, 0)\n",
    "print(classification_report(y_test, y_predicted))"
   ]
  }
 ],
 "metadata": {
  "kernelspec": {
   "display_name": "Python 3 (ipykernel)",
   "language": "python",
   "name": "python3"
  },
  "language_info": {
   "codemirror_mode": {
    "name": "ipython",
    "version": 3
   },
   "file_extension": ".py",
   "mimetype": "text/x-python",
   "name": "python",
   "nbconvert_exporter": "python",
   "pygments_lexer": "ipython3",
   "version": "3.7.13"
  }
 },
 "nbformat": 4,
 "nbformat_minor": 5
}
